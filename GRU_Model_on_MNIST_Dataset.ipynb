{
  "nbformat": 4,
  "nbformat_minor": 0,
  "metadata": {
    "colab": {
      "provenance": []
    },
    "kernelspec": {
      "name": "python3",
      "display_name": "Python 3"
    },
    "language_info": {
      "name": "python"
    },
    "accelerator": "GPU",
    "gpuClass": "standard"
  },
  "cells": [
    {
      "cell_type": "code",
      "execution_count": 1,
      "metadata": {
        "id": "UMCmlN-D0GUD"
      },
      "outputs": [],
      "source": [
        "# importing the important libraries:\n",
        "import os\n",
        "\n",
        "os.environ[\"TF_CPP_MIN_LOG_LEVEL\"] = \"2\"\n",
        "\n",
        "import tensorflow as tf\n",
        "from tensorflow import keras\n",
        "from tensorflow.keras import layers\n",
        "from tensorflow.keras.datasets import mnist"
      ]
    },
    {
      "cell_type": "code",
      "source": [
        "# Load MNIST dataset:\n",
        "(x_train, y_train), (x_test, y_test) = mnist.load_data()"
      ],
      "metadata": {
        "id": "3YtYaU4I0HAs",
        "colab": {
          "base_uri": "https://localhost:8080/"
        },
        "outputId": "3b725551-b088-4e7e-9fb0-a21d29bd0970"
      },
      "execution_count": 2,
      "outputs": [
        {
          "output_type": "stream",
          "name": "stdout",
          "text": [
            "Downloading data from https://storage.googleapis.com/tensorflow/tf-keras-datasets/mnist.npz\n",
            "11490434/11490434 [==============================] - 0s 0us/step\n"
          ]
        }
      ]
    },
    {
      "cell_type": "code",
      "source": [
        "# Reshape input data to be compatible with GRU:\n",
        "x_train = x_train.reshape([-1, 28, 28]).astype(\"float32\") / 255.0\n",
        "x_test = x_test.reshape([-1, 28, 28]).astype(\"float32\") / 255.0"
      ],
      "metadata": {
        "id": "qbmipDYg0HIo"
      },
      "execution_count": 3,
      "outputs": []
    },
    {
      "cell_type": "code",
      "source": [
        "# Define the GRU model:\n",
        "model = keras.Sequential([\n",
        "    # Input layer\n",
        "    keras.Input(shape=(28, 28)),\n",
        "    # GRU layer with 256 units and dropout for regularization\n",
        "    layers.GRU(256, return_sequences=True, activation=\"tanh\", dropout=0.2),\n",
        "    # GRU layer with 256 units and dropout for regularization\n",
        "    layers.GRU(256, activation=\"tanh\", dropout=0.2),\n",
        "    # Output layer with 10 units for 10 classes\n",
        "    layers.Dense(10, activation=\"softmax\")\n",
        "])"
      ],
      "metadata": {
        "id": "GchJpZlL0HP5"
      },
      "execution_count": 4,
      "outputs": []
    },
    {
      "cell_type": "code",
      "source": [
        "# Print model summary:\n",
        "print(model.summary())"
      ],
      "metadata": {
        "id": "z0Sxuy0b0HXX",
        "colab": {
          "base_uri": "https://localhost:8080/"
        },
        "outputId": "71d1c13d-494e-4434-f040-98a0a18bdaa1"
      },
      "execution_count": 5,
      "outputs": [
        {
          "output_type": "stream",
          "name": "stdout",
          "text": [
            "Model: \"sequential\"\n",
            "_________________________________________________________________\n",
            " Layer (type)                Output Shape              Param #   \n",
            "=================================================================\n",
            " gru (GRU)                   (None, 28, 256)           219648    \n",
            "                                                                 \n",
            " gru_1 (GRU)                 (None, 256)               394752    \n",
            "                                                                 \n",
            " dense (Dense)               (None, 10)                2570      \n",
            "                                                                 \n",
            "=================================================================\n",
            "Total params: 616,970\n",
            "Trainable params: 616,970\n",
            "Non-trainable params: 0\n",
            "_________________________________________________________________\n",
            "None\n"
          ]
        }
      ]
    },
    {
      "cell_type": "code",
      "source": [
        "# Compile the model with appropriate loss function, optimizer and evaluation metric:\n",
        "model.compile(\n",
        "    loss=keras.losses.SparseCategoricalCrossentropy(from_logits=False),\n",
        "    optimizer=keras.optimizers.Adam(lr=0.001),\n",
        "    metrics=[\"accuracy\"]\n",
        ")"
      ],
      "metadata": {
        "id": "h9V-p7rP0He-",
        "colab": {
          "base_uri": "https://localhost:8080/"
        },
        "outputId": "0bb82ab6-fa2c-4c1b-b573-9a959d341cd6"
      },
      "execution_count": 6,
      "outputs": [
        {
          "output_type": "stream",
          "name": "stderr",
          "text": [
            "WARNING:absl:`lr` is deprecated in Keras optimizer, please use `learning_rate` or use the legacy optimizer, e.g.,tf.keras.optimizers.legacy.Adam.\n"
          ]
        }
      ]
    },
    {
      "cell_type": "code",
      "source": [
        "# Train the model with the training data:\n",
        "model.fit(x_train, y_train, batch_size=64, epochs=20, verbose=2)"
      ],
      "metadata": {
        "id": "rgkVbGVf0HmS",
        "colab": {
          "base_uri": "https://localhost:8080/"
        },
        "outputId": "65b0d570-108e-4be4-e752-9fbf9e2ca091"
      },
      "execution_count": 7,
      "outputs": [
        {
          "output_type": "stream",
          "name": "stdout",
          "text": [
            "Epoch 1/20\n",
            "938/938 - 14s - loss: 0.3042 - accuracy: 0.8987 - 14s/epoch - 15ms/step\n",
            "Epoch 2/20\n",
            "938/938 - 6s - loss: 0.0877 - accuracy: 0.9724 - 6s/epoch - 6ms/step\n",
            "Epoch 3/20\n",
            "938/938 - 5s - loss: 0.0635 - accuracy: 0.9801 - 5s/epoch - 6ms/step\n",
            "Epoch 4/20\n",
            "938/938 - 6s - loss: 0.0545 - accuracy: 0.9827 - 6s/epoch - 6ms/step\n",
            "Epoch 5/20\n",
            "938/938 - 5s - loss: 0.0473 - accuracy: 0.9852 - 5s/epoch - 6ms/step\n",
            "Epoch 6/20\n",
            "938/938 - 6s - loss: 0.0424 - accuracy: 0.9870 - 6s/epoch - 6ms/step\n",
            "Epoch 7/20\n",
            "938/938 - 6s - loss: 0.0356 - accuracy: 0.9888 - 6s/epoch - 6ms/step\n",
            "Epoch 8/20\n",
            "938/938 - 6s - loss: 0.0352 - accuracy: 0.9887 - 6s/epoch - 6ms/step\n",
            "Epoch 9/20\n",
            "938/938 - 6s - loss: 0.0321 - accuracy: 0.9894 - 6s/epoch - 6ms/step\n",
            "Epoch 10/20\n",
            "938/938 - 6s - loss: 0.0297 - accuracy: 0.9900 - 6s/epoch - 6ms/step\n",
            "Epoch 11/20\n",
            "938/938 - 6s - loss: 0.0280 - accuracy: 0.9903 - 6s/epoch - 6ms/step\n",
            "Epoch 12/20\n",
            "938/938 - 5s - loss: 0.0253 - accuracy: 0.9914 - 5s/epoch - 6ms/step\n",
            "Epoch 13/20\n",
            "938/938 - 6s - loss: 0.0238 - accuracy: 0.9920 - 6s/epoch - 6ms/step\n",
            "Epoch 14/20\n",
            "938/938 - 5s - loss: 0.0222 - accuracy: 0.9926 - 5s/epoch - 6ms/step\n",
            "Epoch 15/20\n",
            "938/938 - 6s - loss: 0.0201 - accuracy: 0.9934 - 6s/epoch - 7ms/step\n",
            "Epoch 16/20\n",
            "938/938 - 5s - loss: 0.0226 - accuracy: 0.9927 - 5s/epoch - 6ms/step\n",
            "Epoch 17/20\n",
            "938/938 - 6s - loss: 0.0200 - accuracy: 0.9934 - 6s/epoch - 6ms/step\n",
            "Epoch 18/20\n",
            "938/938 - 5s - loss: 0.0169 - accuracy: 0.9945 - 5s/epoch - 6ms/step\n",
            "Epoch 19/20\n",
            "938/938 - 6s - loss: 0.0195 - accuracy: 0.9934 - 6s/epoch - 7ms/step\n",
            "Epoch 20/20\n",
            "938/938 - 6s - loss: 0.0206 - accuracy: 0.9935 - 6s/epoch - 6ms/step\n"
          ]
        },
        {
          "output_type": "execute_result",
          "data": {
            "text/plain": [
              "<keras.callbacks.History at 0x7f91e019eee0>"
            ]
          },
          "metadata": {},
          "execution_count": 7
        }
      ]
    },
    {
      "cell_type": "code",
      "source": [
        "# Evaluate the model with the test data:\n",
        "model.evaluate(x_test, y_test, batch_size=64, verbose=2)"
      ],
      "metadata": {
        "id": "FjPoub1v0Hsz",
        "colab": {
          "base_uri": "https://localhost:8080/"
        },
        "outputId": "899f811e-f9e2-4cf0-9bd8-f672d853617a"
      },
      "execution_count": 8,
      "outputs": [
        {
          "output_type": "stream",
          "name": "stdout",
          "text": [
            "157/157 - 1s - loss: 0.0345 - accuracy: 0.9902 - 1s/epoch - 8ms/step\n"
          ]
        },
        {
          "output_type": "execute_result",
          "data": {
            "text/plain": [
              "[0.034544073045253754, 0.9901999831199646]"
            ]
          },
          "metadata": {},
          "execution_count": 8
        }
      ]
    },
    {
      "cell_type": "code",
      "source": [],
      "metadata": {
        "id": "9W95pc4G0IXc"
      },
      "execution_count": null,
      "outputs": []
    },
    {
      "cell_type": "code",
      "source": [],
      "metadata": {
        "id": "4-gkGC0c0Iee"
      },
      "execution_count": null,
      "outputs": []
    }
  ]
}