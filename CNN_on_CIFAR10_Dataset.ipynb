{
  "nbformat": 4,
  "nbformat_minor": 0,
  "metadata": {
    "colab": {
      "provenance": []
    },
    "kernelspec": {
      "name": "python3",
      "display_name": "Python 3"
    },
    "language_info": {
      "name": "python"
    },
    "accelerator": "GPU",
    "gpuClass": "standard"
  },
  "cells": [
    {
      "cell_type": "code",
      "execution_count": 1,
      "metadata": {
        "id": "lVv8_Wf4xVG_"
      },
      "outputs": [],
      "source": [
        "# importing the imporatnt libraries:\n",
        "import os\n",
        "import tensorflow as tf\n",
        "from tensorflow import keras\n",
        "from tensorflow.keras import layers\n",
        "from tensorflow.keras.datasets import cifar10"
      ]
    },
    {
      "cell_type": "code",
      "source": [
        "# Suppress TensorFlow warnings:\n",
        "os.environ[\"TF_CPP_MIN_LOG_LEVEL\"] = \"2\""
      ],
      "metadata": {
        "id": "0m7ERF6Cx4YJ"
      },
      "execution_count": 2,
      "outputs": []
    },
    {
      "cell_type": "code",
      "source": [
        "# Load the dataset:\n",
        "(x_train, y_train), (x_test, y_test) = cifar10.load_data()"
      ],
      "metadata": {
        "id": "n1kBScoex4fP",
        "colab": {
          "base_uri": "https://localhost:8080/"
        },
        "outputId": "3b180e3e-4e4d-4b1d-b28d-e8e659c975c7"
      },
      "execution_count": 3,
      "outputs": [
        {
          "output_type": "stream",
          "name": "stdout",
          "text": [
            "Downloading data from https://www.cs.toronto.edu/~kriz/cifar-10-python.tar.gz\n",
            "170498071/170498071 [==============================] - 3s 0us/step\n"
          ]
        }
      ]
    },
    {
      "cell_type": "code",
      "source": [
        "# Normalize pixel values:\n",
        "x_train = x_train.astype(\"float32\") / 255.0\n",
        "x_test = x_test.astype(\"float32\") / 255.0"
      ],
      "metadata": {
        "id": "ptVxPko_x4l-"
      },
      "execution_count": 4,
      "outputs": []
    },
    {
      "cell_type": "code",
      "source": [
        "# Define the model architecture using functional API\n",
        "def my_model():\n",
        "\n",
        "  # input layer\n",
        "  inputs = keras.Input(shape=(32, 32, 3))  \n",
        "\n",
        "  # Convolutional layer 1 with batch normalization and ReLU activation\n",
        "  x = layers.Conv2D(32, 3)(inputs)\n",
        "  x = layers.BatchNormalization()(x)\n",
        "  x = keras.activations.relu(x)\n",
        "\n",
        "  # Max pooling layer\n",
        "  x = layers.MaxPooling2D()(x)\n",
        "\n",
        "  # Convolutional layer 2 with batch normalization and ReLU activation\n",
        "  x = layers.Conv2D(64, 3)(x)\n",
        "  x = layers.BatchNormalization()(x)\n",
        "  x = keras.activations.relu(x)\n",
        "\n",
        "  # Max pooling layer\n",
        "  x = layers.MaxPooling2D()(x)\n",
        "\n",
        "  # Convolutional layer 3 with batch normalization and ReLU activation\n",
        "  x = layers.Conv2D(128, 3)(x)\n",
        "  x = layers.BatchNormalization()(x)\n",
        "  x = keras.activations.relu(x)\n",
        "\n",
        "  # Flatten layer\n",
        "  x = layers.Flatten()(x)\n",
        "\n",
        "  # Fully connected layer with ReLU activation\n",
        "  x = layers.Dense(64, activation=\"relu\")(x)\n",
        "\n",
        "  # Output layer with 10 classes\n",
        "  outputs = layers.Dense(10)(x)\n",
        "\n",
        "  # Create and return the model\n",
        "  model = keras.Model(inputs=inputs, outputs=outputs)\n",
        "  return model\n",
        "\n"
      ],
      "metadata": {
        "id": "dYAVdXsPx4sD"
      },
      "execution_count": 5,
      "outputs": []
    },
    {
      "cell_type": "code",
      "source": [
        "# Create the model:\n",
        "model = my_model()"
      ],
      "metadata": {
        "id": "r5xco8-xx4yK"
      },
      "execution_count": 6,
      "outputs": []
    },
    {
      "cell_type": "code",
      "source": [
        "# Compile the model with Adam optimizer and sparse categorical crossentropy loss:\n",
        "model.compile(\n",
        "loss=keras.losses.SparseCategoricalCrossentropy(from_logits=True),\n",
        "optimizer=keras.optimizers.Adam(lr=3e-4),\n",
        "metrics=[\"accuracy\"],\n",
        ")"
      ],
      "metadata": {
        "id": "x7M5SKpox44L",
        "colab": {
          "base_uri": "https://localhost:8080/"
        },
        "outputId": "70318cd3-c492-4936-abad-481f4be1c48e"
      },
      "execution_count": 7,
      "outputs": [
        {
          "output_type": "stream",
          "name": "stderr",
          "text": [
            "WARNING:absl:`lr` is deprecated in Keras optimizer, please use `learning_rate` or use the legacy optimizer, e.g.,tf.keras.optimizers.legacy.Adam.\n"
          ]
        }
      ]
    },
    {
      "cell_type": "code",
      "source": [
        "# Train the model:\n",
        "model.fit(x_train, y_train, batch_size=64, epochs=10, verbose=2)"
      ],
      "metadata": {
        "id": "S_-jMr6Wx4-A",
        "colab": {
          "base_uri": "https://localhost:8080/"
        },
        "outputId": "d293356d-7489-424f-b613-c658ed050722"
      },
      "execution_count": 8,
      "outputs": [
        {
          "output_type": "stream",
          "name": "stdout",
          "text": [
            "Epoch 1/10\n",
            "782/782 - 17s - loss: 1.2595 - accuracy: 0.5505 - 17s/epoch - 22ms/step\n",
            "Epoch 2/10\n",
            "782/782 - 4s - loss: 0.8942 - accuracy: 0.6871 - 4s/epoch - 5ms/step\n",
            "Epoch 3/10\n",
            "782/782 - 4s - loss: 0.7496 - accuracy: 0.7366 - 4s/epoch - 5ms/step\n",
            "Epoch 4/10\n",
            "782/782 - 3s - loss: 0.6486 - accuracy: 0.7724 - 3s/epoch - 4ms/step\n",
            "Epoch 5/10\n",
            "782/782 - 4s - loss: 0.5712 - accuracy: 0.7992 - 4s/epoch - 5ms/step\n",
            "Epoch 6/10\n",
            "782/782 - 3s - loss: 0.4998 - accuracy: 0.8256 - 3s/epoch - 4ms/step\n",
            "Epoch 7/10\n",
            "782/782 - 3s - loss: 0.4398 - accuracy: 0.8459 - 3s/epoch - 4ms/step\n",
            "Epoch 8/10\n",
            "782/782 - 4s - loss: 0.3844 - accuracy: 0.8639 - 4s/epoch - 5ms/step\n",
            "Epoch 9/10\n",
            "782/782 - 3s - loss: 0.3364 - accuracy: 0.8815 - 3s/epoch - 4ms/step\n",
            "Epoch 10/10\n",
            "782/782 - 3s - loss: 0.2899 - accuracy: 0.8987 - 3s/epoch - 4ms/step\n"
          ]
        },
        {
          "output_type": "execute_result",
          "data": {
            "text/plain": [
              "<keras.callbacks.History at 0x7fe5601aab50>"
            ]
          },
          "metadata": {},
          "execution_count": 8
        }
      ]
    },
    {
      "cell_type": "code",
      "source": [
        "# Evaluate the model:\n",
        "model.evaluate(x_test, y_test, batch_size=64, verbose=2)"
      ],
      "metadata": {
        "id": "ML2rvfftx5DY",
        "colab": {
          "base_uri": "https://localhost:8080/"
        },
        "outputId": "42a7a02a-9bf8-4532-dba5-db76f7508499"
      },
      "execution_count": 9,
      "outputs": [
        {
          "output_type": "stream",
          "name": "stdout",
          "text": [
            "157/157 - 1s - loss: 1.0481 - accuracy: 0.7127 - 606ms/epoch - 4ms/step\n"
          ]
        },
        {
          "output_type": "execute_result",
          "data": {
            "text/plain": [
              "[1.0481021404266357, 0.7127000093460083]"
            ]
          },
          "metadata": {},
          "execution_count": 9
        }
      ]
    },
    {
      "cell_type": "code",
      "source": [
        "# Print the model summary:\n",
        "print(model.summary())"
      ],
      "metadata": {
        "id": "SckH6_aDx5Im",
        "colab": {
          "base_uri": "https://localhost:8080/"
        },
        "outputId": "d334f7ba-4cc1-47a8-f550-493a668e4fb6"
      },
      "execution_count": 10,
      "outputs": [
        {
          "output_type": "stream",
          "name": "stdout",
          "text": [
            "Model: \"model\"\n",
            "_________________________________________________________________\n",
            " Layer (type)                Output Shape              Param #   \n",
            "=================================================================\n",
            " input_1 (InputLayer)        [(None, 32, 32, 3)]       0         \n",
            "                                                                 \n",
            " conv2d (Conv2D)             (None, 30, 30, 32)        896       \n",
            "                                                                 \n",
            " batch_normalization (BatchN  (None, 30, 30, 32)       128       \n",
            " ormalization)                                                   \n",
            "                                                                 \n",
            " tf.nn.relu (TFOpLambda)     (None, 30, 30, 32)        0         \n",
            "                                                                 \n",
            " max_pooling2d (MaxPooling2D  (None, 15, 15, 32)       0         \n",
            " )                                                               \n",
            "                                                                 \n",
            " conv2d_1 (Conv2D)           (None, 13, 13, 64)        18496     \n",
            "                                                                 \n",
            " batch_normalization_1 (Batc  (None, 13, 13, 64)       256       \n",
            " hNormalization)                                                 \n",
            "                                                                 \n",
            " tf.nn.relu_1 (TFOpLambda)   (None, 13, 13, 64)        0         \n",
            "                                                                 \n",
            " max_pooling2d_1 (MaxPooling  (None, 6, 6, 64)         0         \n",
            " 2D)                                                             \n",
            "                                                                 \n",
            " conv2d_2 (Conv2D)           (None, 4, 4, 128)         73856     \n",
            "                                                                 \n",
            " batch_normalization_2 (Batc  (None, 4, 4, 128)        512       \n",
            " hNormalization)                                                 \n",
            "                                                                 \n",
            " tf.nn.relu_2 (TFOpLambda)   (None, 4, 4, 128)         0         \n",
            "                                                                 \n",
            " flatten (Flatten)           (None, 2048)              0         \n",
            "                                                                 \n",
            " dense (Dense)               (None, 64)                131136    \n",
            "                                                                 \n",
            " dense_1 (Dense)             (None, 10)                650       \n",
            "                                                                 \n",
            "=================================================================\n",
            "Total params: 225,930\n",
            "Trainable params: 225,482\n",
            "Non-trainable params: 448\n",
            "_________________________________________________________________\n",
            "None\n"
          ]
        }
      ]
    },
    {
      "cell_type": "code",
      "source": [],
      "metadata": {
        "id": "cEqne-G_x5-r"
      },
      "execution_count": null,
      "outputs": []
    }
  ]
}