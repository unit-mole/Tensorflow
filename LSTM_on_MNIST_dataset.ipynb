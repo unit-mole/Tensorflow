{
  "cells": [
    {
      "cell_type": "code",
      "execution_count": 1,
      "metadata": {
        "id": "BhBIIAtpXAup"
      },
      "outputs": [],
      "source": [
        "# importing necessary libraries\n",
        "import os\n",
        "os.environ[\"TF_CPP_MIN_LOG_LEVEL\"] = \"2\"\n",
        "import tensorflow as tf\n",
        "from tensorflow import keras\n",
        "from tensorflow.keras import layers\n",
        "from tensorflow.keras.datasets import mnist"
      ]
    },
    {
      "cell_type": "code",
      "execution_count": 2,
      "metadata": {
        "colab": {
          "base_uri": "https://localhost:8080/"
        },
        "id": "gX3YWjCXXXNP",
        "outputId": "07201dcb-e634-4f6e-9c33-62dcca6b3ea8"
      },
      "outputs": [
        {
          "output_type": "stream",
          "name": "stdout",
          "text": [
            "Downloading data from https://storage.googleapis.com/tensorflow/tf-keras-datasets/mnist.npz\n",
            "11490434/11490434 [==============================] - 0s 0us/step\n"
          ]
        }
      ],
      "source": [
        "# loading the dataset\n",
        "(x_train, y_train), (x_test, y_test) = mnist.load_data()"
      ]
    },
    {
      "cell_type": "code",
      "execution_count": 3,
      "metadata": {
        "id": "lO2QNdHzXYDY"
      },
      "outputs": [],
      "source": [
        "# normalizing the data and reshaping it to 3D for LSTM input:\n",
        "x_train = x_train.reshape([-1, 28, 28]).astype(\"float32\") / 255.0\n",
        "x_test = x_test.reshape([-1, 28, 28]).astype(\"float32\") / 255.0"
      ]
    },
    {
      "cell_type": "code",
      "execution_count": 4,
      "metadata": {
        "id": "j-OzkM4dXYk8"
      },
      "outputs": [],
      "source": [
        "# defining the model:\n",
        "model = keras.Sequential()"
      ]
    },
    {
      "cell_type": "code",
      "execution_count": 5,
      "metadata": {
        "id": "0Ljv6okUXeSA"
      },
      "outputs": [],
      "source": [
        "# adding input layer:\n",
        "model.add(keras.Input(shape=(None, 28)))"
      ]
    },
    {
      "cell_type": "code",
      "execution_count": 6,
      "metadata": {
        "id": "PuSx328mXflK",
        "colab": {
          "base_uri": "https://localhost:8080/"
        },
        "outputId": "30c39d71-c653-4d63-d749-2c3f714186a4"
      },
      "outputs": [
        {
          "output_type": "stream",
          "name": "stderr",
          "text": [
            "WARNING:tensorflow:Layer lstm will not use cuDNN kernels since it doesn't meet the criteria. It will use a generic GPU kernel as fallback when running on GPU.\n"
          ]
        }
      ],
      "source": [
        "# adding first LSTM layer with return sequences as True and relu activation function:\n",
        "model.add(layers.LSTM(256, return_sequences=True, activation=\"relu\"))"
      ]
    },
    {
      "cell_type": "code",
      "source": [
        "# adding second LSTM layer with name as lstm_layer2:\n",
        "model.add(layers.LSTM(256, name=\"lstm_layer2\"))"
      ],
      "metadata": {
        "id": "u16A1QAJuUCE"
      },
      "execution_count": 7,
      "outputs": []
    },
    {
      "cell_type": "code",
      "source": [
        "# adding output layer with 10 nodes:\n",
        "model.add(layers.Dense(10))"
      ],
      "metadata": {
        "id": "Ofc9h-kJuUMR"
      },
      "execution_count": 8,
      "outputs": []
    },
    {
      "cell_type": "code",
      "source": [
        "# printing the model summary:\n",
        "print(model.summary())"
      ],
      "metadata": {
        "colab": {
          "base_uri": "https://localhost:8080/"
        },
        "id": "Cau3ojxduUWE",
        "outputId": "06b809db-7e7c-45fa-b6f1-d1f429dd6104"
      },
      "execution_count": 9,
      "outputs": [
        {
          "output_type": "stream",
          "name": "stdout",
          "text": [
            "Model: \"sequential\"\n",
            "_________________________________________________________________\n",
            " Layer (type)                Output Shape              Param #   \n",
            "=================================================================\n",
            " lstm (LSTM)                 (None, None, 256)         291840    \n",
            "                                                                 \n",
            " lstm_layer2 (LSTM)          (None, 256)               525312    \n",
            "                                                                 \n",
            " dense (Dense)               (None, 10)                2570      \n",
            "                                                                 \n",
            "=================================================================\n",
            "Total params: 819,722\n",
            "Trainable params: 819,722\n",
            "Non-trainable params: 0\n",
            "_________________________________________________________________\n",
            "None\n"
          ]
        }
      ]
    },
    {
      "cell_type": "code",
      "source": [
        "# compiling the model: \n",
        "model.compile(\n",
        "loss=keras.losses.SparseCategoricalCrossentropy(from_logits=True),\n",
        "optimizer=keras.optimizers.Adam(lr=0.001),\n",
        "metrics=[\"accuracy\"],\n",
        ")"
      ],
      "metadata": {
        "colab": {
          "base_uri": "https://localhost:8080/"
        },
        "id": "Y9zOA0hZuUfG",
        "outputId": "b1893fa6-ad1b-449c-cc45-a5d8b3b2e609"
      },
      "execution_count": 10,
      "outputs": [
        {
          "output_type": "stream",
          "name": "stderr",
          "text": [
            "WARNING:absl:`lr` is deprecated in Keras optimizer, please use `learning_rate` or use the legacy optimizer, e.g.,tf.keras.optimizers.legacy.Adam.\n"
          ]
        }
      ]
    },
    {
      "cell_type": "code",
      "source": [
        "# training the model:\n",
        "model.fit(x_train, y_train, batch_size=64, epochs=10, verbose=2)"
      ],
      "metadata": {
        "colab": {
          "base_uri": "https://localhost:8080/"
        },
        "id": "tjMPdpB7uUn6",
        "outputId": "fc581055-49a9-46f0-c87c-de9f36c2c352"
      },
      "execution_count": 11,
      "outputs": [
        {
          "output_type": "stream",
          "name": "stdout",
          "text": [
            "Epoch 1/10\n",
            "938/938 - 62s - loss: 0.2813 - accuracy: 0.9077 - 62s/epoch - 66ms/step\n",
            "Epoch 2/10\n",
            "938/938 - 52s - loss: 0.0863 - accuracy: 0.9732 - 52s/epoch - 55ms/step\n",
            "Epoch 3/10\n",
            "938/938 - 52s - loss: 0.0607 - accuracy: 0.9811 - 52s/epoch - 55ms/step\n",
            "Epoch 4/10\n",
            "938/938 - 53s - loss: 0.0475 - accuracy: 0.9855 - 53s/epoch - 57ms/step\n",
            "Epoch 5/10\n",
            "938/938 - 51s - loss: 0.0385 - accuracy: 0.9879 - 51s/epoch - 54ms/step\n",
            "Epoch 6/10\n",
            "938/938 - 52s - loss: 0.0340 - accuracy: 0.9894 - 52s/epoch - 55ms/step\n",
            "Epoch 7/10\n",
            "938/938 - 52s - loss: 0.0291 - accuracy: 0.9908 - 52s/epoch - 56ms/step\n",
            "Epoch 8/10\n",
            "938/938 - 53s - loss: 0.0257 - accuracy: 0.9919 - 53s/epoch - 57ms/step\n",
            "Epoch 9/10\n",
            "938/938 - 51s - loss: 0.0221 - accuracy: 0.9931 - 51s/epoch - 54ms/step\n",
            "Epoch 10/10\n",
            "938/938 - 52s - loss: 0.0204 - accuracy: 0.9934 - 52s/epoch - 56ms/step\n"
          ]
        },
        {
          "output_type": "execute_result",
          "data": {
            "text/plain": [
              "<keras.callbacks.History at 0x7f08a04c87c0>"
            ]
          },
          "metadata": {},
          "execution_count": 11
        }
      ]
    },
    {
      "cell_type": "code",
      "source": [
        "# evaluating the model:\n",
        "model.evaluate(x_test, y_test, batch_size=64, verbose=2)"
      ],
      "metadata": {
        "colab": {
          "base_uri": "https://localhost:8080/"
        },
        "id": "7Wpk0fGLulr7",
        "outputId": "17d60685-a199-4010-bce3-4320b3c16981"
      },
      "execution_count": 12,
      "outputs": [
        {
          "output_type": "stream",
          "name": "stdout",
          "text": [
            "157/157 - 2s - loss: 0.0302 - accuracy: 0.9911 - 2s/epoch - 12ms/step\n"
          ]
        },
        {
          "output_type": "execute_result",
          "data": {
            "text/plain": [
              "[0.0302263330668211, 0.991100013256073]"
            ]
          },
          "metadata": {},
          "execution_count": 12
        }
      ]
    },
    {
      "cell_type": "code",
      "source": [],
      "metadata": {
        "id": "ODl3h8NUul0E"
      },
      "execution_count": null,
      "outputs": []
    }
  ],
  "metadata": {
    "accelerator": "GPU",
    "colab": {
      "provenance": []
    },
    "gpuClass": "standard",
    "kernelspec": {
      "display_name": "Python 3",
      "name": "python3"
    },
    "language_info": {
      "name": "python"
    }
  },
  "nbformat": 4,
  "nbformat_minor": 0
}