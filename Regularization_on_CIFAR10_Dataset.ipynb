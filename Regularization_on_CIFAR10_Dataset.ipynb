{
  "nbformat": 4,
  "nbformat_minor": 0,
  "metadata": {
    "colab": {
      "provenance": []
    },
    "kernelspec": {
      "name": "python3",
      "display_name": "Python 3"
    },
    "language_info": {
      "name": "python"
    },
    "accelerator": "GPU",
    "gpuClass": "standard"
  },
  "cells": [
    {
      "cell_type": "code",
      "execution_count": 2,
      "metadata": {
        "id": "8M1T5W-CdWgd"
      },
      "outputs": [],
      "source": [
        "# loading the important libraries:\n",
        "import os\n",
        "\n",
        "os.environ[\"TF_CPP_MIN_LOG_LEVEL\"] = \"2\"\n",
        "\n",
        "import tensorflow as tf\n",
        "from tensorflow import keras\n",
        "from tensorflow.keras import layers, regularizers\n",
        "from tensorflow.keras.datasets import cifar10"
      ]
    },
    {
      "cell_type": "code",
      "source": [
        "# Load and preprocess the data\n",
        "(x_train, y_train), (x_test, y_test) = cifar10.load_data()\n",
        "x_train = x_train.astype(\"float32\") / 255.0\n",
        "x_test = x_test.astype(\"float32\") / 255.0"
      ],
      "metadata": {
        "id": "IGwMPcihdXLZ",
        "colab": {
          "base_uri": "https://localhost:8080/"
        },
        "outputId": "6a5ae45c-7f1b-41f1-9afb-ba1eab86b0a7"
      },
      "execution_count": 3,
      "outputs": [
        {
          "output_type": "stream",
          "name": "stdout",
          "text": [
            "Downloading data from https://www.cs.toronto.edu/~kriz/cifar-10-python.tar.gz\n",
            "170498071/170498071 [==============================] - 4s 0us/step\n"
          ]
        }
      ]
    },
    {
      "cell_type": "code",
      "source": [
        "# Define a function to build the model\n",
        "def my_model():\n",
        "    # Input layer\n",
        "    inputs = keras.Input(shape=(32, 32, 3))\n",
        "\n",
        "    # Convolutional block 1\n",
        "    x = layers.Conv2D(32, 3, padding=\"same\", kernel_initializer=\"he_uniform\",)(inputs)\n",
        "    x = layers.BatchNormalization()(x)\n",
        "    x = keras.activations.relu(x)\n",
        "    x = layers.MaxPooling2D()(x)\n",
        "\n",
        "    # Convolutional block 2\n",
        "    x = layers.Conv2D(64, 3, padding=\"same\", kernel_initializer=\"he_uniform\",)(x)\n",
        "    x = layers.BatchNormalization()(x)\n",
        "    x = keras.activations.relu(x)\n",
        "    x = layers.MaxPooling2D()(x)\n",
        "\n",
        "    # Convolutional block 3\n",
        "    x = layers.Conv2D(128, 3, padding=\"same\", kernel_initializer=\"he_uniform\",)(x)\n",
        "    x = layers.BatchNormalization()(x)\n",
        "    x = keras.activations.relu(x)\n",
        "    x = layers.MaxPooling2D()(x)\n",
        "\n",
        "    # Flatten and fully-connected layers\n",
        "    x = layers.Flatten()(x)\n",
        "    x = layers.Dense(64, activation=\"relu\", kernel_initializer=\"he_uniform\",)(x)\n",
        "    x = layers.Dropout(0.5)(x)\n",
        "    outputs = layers.Dense(10, activation=\"softmax\")(x)\n",
        "\n",
        "    # Create and return the model\n",
        "    model = keras.Model(inputs=inputs, outputs=outputs)\n",
        "    return model"
      ],
      "metadata": {
        "id": "OmUrqYw0dXVT"
      },
      "execution_count": 4,
      "outputs": []
    },
    {
      "cell_type": "code",
      "source": [
        "# Print the model summary\n",
        "model = my_model()\n",
        "print(model.summary())"
      ],
      "metadata": {
        "id": "1kk2yFyBdpvv",
        "colab": {
          "base_uri": "https://localhost:8080/"
        },
        "outputId": "9e731e25-3cc8-4137-f5ad-c858edd7b785"
      },
      "execution_count": 5,
      "outputs": [
        {
          "output_type": "stream",
          "name": "stdout",
          "text": [
            "Model: \"model\"\n",
            "_________________________________________________________________\n",
            " Layer (type)                Output Shape              Param #   \n",
            "=================================================================\n",
            " input_1 (InputLayer)        [(None, 32, 32, 3)]       0         \n",
            "                                                                 \n",
            " conv2d (Conv2D)             (None, 32, 32, 32)        896       \n",
            "                                                                 \n",
            " batch_normalization (BatchN  (None, 32, 32, 32)       128       \n",
            " ormalization)                                                   \n",
            "                                                                 \n",
            " tf.nn.relu (TFOpLambda)     (None, 32, 32, 32)        0         \n",
            "                                                                 \n",
            " max_pooling2d (MaxPooling2D  (None, 16, 16, 32)       0         \n",
            " )                                                               \n",
            "                                                                 \n",
            " conv2d_1 (Conv2D)           (None, 16, 16, 64)        18496     \n",
            "                                                                 \n",
            " batch_normalization_1 (Batc  (None, 16, 16, 64)       256       \n",
            " hNormalization)                                                 \n",
            "                                                                 \n",
            " tf.nn.relu_1 (TFOpLambda)   (None, 16, 16, 64)        0         \n",
            "                                                                 \n",
            " max_pooling2d_1 (MaxPooling  (None, 8, 8, 64)         0         \n",
            " 2D)                                                             \n",
            "                                                                 \n",
            " conv2d_2 (Conv2D)           (None, 8, 8, 128)         73856     \n",
            "                                                                 \n",
            " batch_normalization_2 (Batc  (None, 8, 8, 128)        512       \n",
            " hNormalization)                                                 \n",
            "                                                                 \n",
            " tf.nn.relu_2 (TFOpLambda)   (None, 8, 8, 128)         0         \n",
            "                                                                 \n",
            " max_pooling2d_2 (MaxPooling  (None, 4, 4, 128)        0         \n",
            " 2D)                                                             \n",
            "                                                                 \n",
            " flatten (Flatten)           (None, 2048)              0         \n",
            "                                                                 \n",
            " dense (Dense)               (None, 64)                131136    \n",
            "                                                                 \n",
            " dropout (Dropout)           (None, 64)                0         \n",
            "                                                                 \n",
            " dense_1 (Dense)             (None, 10)                650       \n",
            "                                                                 \n",
            "=================================================================\n",
            "Total params: 225,930\n",
            "Trainable params: 225,482\n",
            "Non-trainable params: 448\n",
            "_________________________________________________________________\n",
            "None\n"
          ]
        }
      ]
    },
    {
      "cell_type": "code",
      "source": [
        "# Compile and train the model\n",
        "model.compile(\n",
        "    loss=keras.losses.SparseCategoricalCrossentropy(),\n",
        "    optimizer=keras.optimizers.Adam(),\n",
        "    metrics=[\"accuracy\"],\n",
        ")\n",
        "history = model.fit(x_train, y_train, batch_size=64, epochs=50, validation_split=0.1)"
      ],
      "metadata": {
        "id": "9zZsSV79dXfY",
        "colab": {
          "base_uri": "https://localhost:8080/"
        },
        "outputId": "3b752d97-13bb-4f63-965f-040f80cc4791"
      },
      "execution_count": 6,
      "outputs": [
        {
          "output_type": "stream",
          "name": "stdout",
          "text": [
            "Epoch 1/50\n",
            "704/704 [==============================] - 17s 6ms/step - loss: 2.0034 - accuracy: 0.2203 - val_loss: 1.7604 - val_accuracy: 0.3604\n",
            "Epoch 2/50\n",
            "704/704 [==============================] - 5s 6ms/step - loss: 1.8607 - accuracy: 0.2577 - val_loss: 1.6273 - val_accuracy: 0.4126\n",
            "Epoch 3/50\n",
            "704/704 [==============================] - 4s 6ms/step - loss: 1.7996 - accuracy: 0.2810 - val_loss: 1.4584 - val_accuracy: 0.4832\n",
            "Epoch 4/50\n",
            "704/704 [==============================] - 4s 6ms/step - loss: 1.7626 - accuracy: 0.2958 - val_loss: 1.6073 - val_accuracy: 0.4074\n",
            "Epoch 5/50\n",
            "704/704 [==============================] - 4s 6ms/step - loss: 1.7354 - accuracy: 0.3033 - val_loss: 1.4896 - val_accuracy: 0.4444\n",
            "Epoch 6/50\n",
            "704/704 [==============================] - 4s 5ms/step - loss: 1.7190 - accuracy: 0.3127 - val_loss: 1.3917 - val_accuracy: 0.5374\n",
            "Epoch 7/50\n",
            "704/704 [==============================] - 4s 6ms/step - loss: 1.6941 - accuracy: 0.3221 - val_loss: 1.3733 - val_accuracy: 0.5234\n",
            "Epoch 8/50\n",
            "704/704 [==============================] - 5s 7ms/step - loss: 1.6739 - accuracy: 0.3258 - val_loss: 1.3227 - val_accuracy: 0.5422\n",
            "Epoch 9/50\n",
            "704/704 [==============================] - 4s 6ms/step - loss: 1.6487 - accuracy: 0.3363 - val_loss: 1.3634 - val_accuracy: 0.5112\n",
            "Epoch 10/50\n",
            "704/704 [==============================] - 4s 6ms/step - loss: 1.6408 - accuracy: 0.3423 - val_loss: 1.3262 - val_accuracy: 0.5240\n",
            "Epoch 11/50\n",
            "704/704 [==============================] - 5s 6ms/step - loss: 1.5895 - accuracy: 0.3662 - val_loss: 1.2861 - val_accuracy: 0.5770\n",
            "Epoch 12/50\n",
            "704/704 [==============================] - 4s 6ms/step - loss: 1.5461 - accuracy: 0.3884 - val_loss: 1.2270 - val_accuracy: 0.6004\n",
            "Epoch 13/50\n",
            "704/704 [==============================] - 4s 6ms/step - loss: 1.5256 - accuracy: 0.3935 - val_loss: 1.2085 - val_accuracy: 0.5936\n",
            "Epoch 14/50\n",
            "704/704 [==============================] - 5s 7ms/step - loss: 1.5044 - accuracy: 0.3971 - val_loss: 1.2175 - val_accuracy: 0.5916\n",
            "Epoch 15/50\n",
            "704/704 [==============================] - 4s 6ms/step - loss: 1.4972 - accuracy: 0.4028 - val_loss: 1.1682 - val_accuracy: 0.6166\n",
            "Epoch 16/50\n",
            "704/704 [==============================] - 4s 6ms/step - loss: 1.4814 - accuracy: 0.4062 - val_loss: 1.1603 - val_accuracy: 0.6062\n",
            "Epoch 17/50\n",
            "704/704 [==============================] - 5s 7ms/step - loss: 1.4418 - accuracy: 0.4214 - val_loss: 1.2541 - val_accuracy: 0.5946\n",
            "Epoch 18/50\n",
            "704/704 [==============================] - 4s 6ms/step - loss: 1.3975 - accuracy: 0.4310 - val_loss: 1.1068 - val_accuracy: 0.6316\n",
            "Epoch 19/50\n",
            "704/704 [==============================] - 4s 6ms/step - loss: 1.3916 - accuracy: 0.4326 - val_loss: 1.1105 - val_accuracy: 0.6272\n",
            "Epoch 20/50\n",
            "704/704 [==============================] - 5s 7ms/step - loss: 1.3628 - accuracy: 0.4434 - val_loss: 1.1703 - val_accuracy: 0.6020\n",
            "Epoch 21/50\n",
            "704/704 [==============================] - 4s 6ms/step - loss: 1.3630 - accuracy: 0.4440 - val_loss: 1.3254 - val_accuracy: 0.5734\n",
            "Epoch 22/50\n",
            "704/704 [==============================] - 5s 7ms/step - loss: 1.3489 - accuracy: 0.4461 - val_loss: 1.1412 - val_accuracy: 0.6240\n",
            "Epoch 23/50\n",
            "704/704 [==============================] - 4s 6ms/step - loss: 1.3350 - accuracy: 0.4504 - val_loss: 1.1135 - val_accuracy: 0.6384\n",
            "Epoch 24/50\n",
            "704/704 [==============================] - 4s 6ms/step - loss: 1.2726 - accuracy: 0.4746 - val_loss: 1.1250 - val_accuracy: 0.6214\n",
            "Epoch 25/50\n",
            "704/704 [==============================] - 4s 6ms/step - loss: 1.2602 - accuracy: 0.4883 - val_loss: 1.0406 - val_accuracy: 0.6462\n",
            "Epoch 26/50\n",
            "704/704 [==============================] - 4s 6ms/step - loss: 1.2029 - accuracy: 0.5207 - val_loss: 1.0209 - val_accuracy: 0.6678\n",
            "Epoch 27/50\n",
            "704/704 [==============================] - 4s 6ms/step - loss: 1.1665 - accuracy: 0.5393 - val_loss: 1.0229 - val_accuracy: 0.6594\n",
            "Epoch 28/50\n",
            "704/704 [==============================] - 4s 6ms/step - loss: 1.1430 - accuracy: 0.5435 - val_loss: 1.0258 - val_accuracy: 0.6712\n",
            "Epoch 29/50\n",
            "704/704 [==============================] - 4s 6ms/step - loss: 1.1099 - accuracy: 0.5558 - val_loss: 1.0058 - val_accuracy: 0.6674\n",
            "Epoch 30/50\n",
            "704/704 [==============================] - 4s 6ms/step - loss: 1.0649 - accuracy: 0.5750 - val_loss: 1.3924 - val_accuracy: 0.6180\n",
            "Epoch 31/50\n",
            "704/704 [==============================] - 5s 6ms/step - loss: 1.0276 - accuracy: 0.5896 - val_loss: 0.9641 - val_accuracy: 0.6878\n",
            "Epoch 32/50\n",
            "704/704 [==============================] - 4s 6ms/step - loss: 1.0154 - accuracy: 0.5970 - val_loss: 1.1312 - val_accuracy: 0.6436\n",
            "Epoch 33/50\n",
            "704/704 [==============================] - 4s 6ms/step - loss: 0.9807 - accuracy: 0.6096 - val_loss: 1.0911 - val_accuracy: 0.6816\n",
            "Epoch 34/50\n",
            "704/704 [==============================] - 5s 6ms/step - loss: 0.9293 - accuracy: 0.6368 - val_loss: 1.0726 - val_accuracy: 0.6856\n",
            "Epoch 35/50\n",
            "704/704 [==============================] - 4s 6ms/step - loss: 0.8949 - accuracy: 0.6474 - val_loss: 1.0074 - val_accuracy: 0.7028\n",
            "Epoch 36/50\n",
            "704/704 [==============================] - 4s 6ms/step - loss: 0.8690 - accuracy: 0.6620 - val_loss: 0.9715 - val_accuracy: 0.7080\n",
            "Epoch 37/50\n",
            "704/704 [==============================] - 5s 7ms/step - loss: 0.8288 - accuracy: 0.6826 - val_loss: 1.0723 - val_accuracy: 0.7102\n",
            "Epoch 38/50\n",
            "704/704 [==============================] - 4s 6ms/step - loss: 0.7974 - accuracy: 0.6979 - val_loss: 0.9687 - val_accuracy: 0.7224\n",
            "Epoch 39/50\n",
            "704/704 [==============================] - 4s 6ms/step - loss: 0.7652 - accuracy: 0.7130 - val_loss: 1.0813 - val_accuracy: 0.6508\n",
            "Epoch 40/50\n",
            "704/704 [==============================] - 5s 7ms/step - loss: 0.7561 - accuracy: 0.7150 - val_loss: 0.9974 - val_accuracy: 0.7098\n",
            "Epoch 41/50\n",
            "704/704 [==============================] - 4s 6ms/step - loss: 0.7311 - accuracy: 0.7238 - val_loss: 1.1207 - val_accuracy: 0.7196\n",
            "Epoch 42/50\n",
            "704/704 [==============================] - 4s 6ms/step - loss: 0.7296 - accuracy: 0.7233 - val_loss: 1.0066 - val_accuracy: 0.7206\n",
            "Epoch 43/50\n",
            "704/704 [==============================] - 5s 6ms/step - loss: 0.7179 - accuracy: 0.7306 - val_loss: 1.0860 - val_accuracy: 0.7314\n",
            "Epoch 44/50\n",
            "704/704 [==============================] - 4s 6ms/step - loss: 0.6923 - accuracy: 0.7407 - val_loss: 1.1810 - val_accuracy: 0.7072\n",
            "Epoch 45/50\n",
            "704/704 [==============================] - 4s 6ms/step - loss: 0.6884 - accuracy: 0.7432 - val_loss: 1.0621 - val_accuracy: 0.7304\n",
            "Epoch 46/50\n",
            "704/704 [==============================] - 5s 6ms/step - loss: 0.6657 - accuracy: 0.7551 - val_loss: 1.0479 - val_accuracy: 0.7328\n",
            "Epoch 47/50\n",
            "704/704 [==============================] - 4s 6ms/step - loss: 0.6466 - accuracy: 0.7626 - val_loss: 1.2551 - val_accuracy: 0.7198\n",
            "Epoch 48/50\n",
            "704/704 [==============================] - 4s 6ms/step - loss: 0.6455 - accuracy: 0.7621 - val_loss: 1.2377 - val_accuracy: 0.7136\n",
            "Epoch 49/50\n",
            "704/704 [==============================] - 5s 7ms/step - loss: 0.6413 - accuracy: 0.7636 - val_loss: 1.1819 - val_accuracy: 0.7140\n",
            "Epoch 50/50\n",
            "704/704 [==============================] - 4s 6ms/step - loss: 0.6210 - accuracy: 0.7707 - val_loss: 1.0519 - val_accuracy: 0.7398\n"
          ]
        }
      ]
    },
    {
      "cell_type": "code",
      "source": [
        "# Evaluate the model on the test set\n",
        "test_loss, test_acc = model.evaluate(x_test, y_test, verbose=2)\n",
        "print(\"Test accuracy:\", test_acc)"
      ],
      "metadata": {
        "id": "BMtkv-dAdXou",
        "colab": {
          "base_uri": "https://localhost:8080/"
        },
        "outputId": "32e56c64-54e2-4f1c-d300-8e90504a52bf"
      },
      "execution_count": 7,
      "outputs": [
        {
          "output_type": "stream",
          "name": "stdout",
          "text": [
            "313/313 - 2s - loss: 1.2164 - accuracy: 0.7137 - 2s/epoch - 5ms/step\n",
            "Test accuracy: 0.713699996471405\n"
          ]
        }
      ]
    },
    {
      "cell_type": "code",
      "source": [],
      "metadata": {
        "id": "uCBRkPTGdYeu"
      },
      "execution_count": null,
      "outputs": []
    },
    {
      "cell_type": "code",
      "source": [],
      "metadata": {
        "id": "4l7J0BOOdYnJ"
      },
      "execution_count": null,
      "outputs": []
    },
    {
      "cell_type": "code",
      "source": [],
      "metadata": {
        "id": "M0-iwVEHdZEk"
      },
      "execution_count": null,
      "outputs": []
    }
  ]
}