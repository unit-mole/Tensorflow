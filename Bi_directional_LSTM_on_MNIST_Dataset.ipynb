{
 "cells": [
  {
   "cell_type": "code",
   "execution_count": 1,
   "metadata": {
    "id": "_X5gd1fzZyJf"
   },
   "outputs": [],
   "source": [
    "# importing the important libraries:\n",
    "import os\n",
    "os.environ[\"TF_CPP_MIN_LOG_LEVEL\"] = \"2\"\n",
    "import tensorflow as tf\n",
    "from tensorflow import keras\n",
    "from tensorflow.keras import layers\n",
    "from tensorflow.keras.datasets import mnist"
   ]
  },
  {
   "cell_type": "code",
   "execution_count": 2,
   "metadata": {
    "colab": {
     "base_uri": "https://localhost:8080/"
    },
    "id": "nKndNZbvZ0fJ",
    "outputId": "35f48c7a-5c54-47c3-9936-92babcfdffcc"
   },
   "outputs": [
    {
     "name": "stdout",
     "output_type": "stream",
     "text": [
      "Downloading data from https://storage.googleapis.com/tensorflow/tf-keras-datasets/mnist.npz\n",
      "11490434/11490434 [==============================] - 2s 0us/step\n"
     ]
    }
   ],
   "source": [
    "# Load MNIST dataset:\n",
    "(x_train, y_train), (x_test, y_test) = mnist.load_data()"
   ]
  },
  {
   "cell_type": "code",
   "execution_count": 3,
   "metadata": {
    "id": "IWx5cUbCZ2CI"
   },
   "outputs": [],
   "source": [
    "# Reshape data to fit LSTM input shape:\n",
    "x_train = x_train.reshape([-1, 28, 28]).astype(\"float32\") / 255.0\n",
    "x_test = x_test.reshape([-1, 28, 28]).astype(\"float32\") / 255.0"
   ]
  },
  {
   "cell_type": "code",
   "execution_count": 4,
   "metadata": {
    "id": "s99HidTewNw8"
   },
   "outputs": [],
   "source": [
    "# Define model architecture:\n",
    "model = keras.Sequential()"
   ]
  },
  {
   "cell_type": "code",
   "execution_count": 5,
   "metadata": {
    "id": "szbuR_yYwN3m"
   },
   "outputs": [],
   "source": [
    "# Add input layer to accept variable-length sequences of 28 features:\n",
    "model.add(keras.Input(shape=(None, 28)))"
   ]
  },
  {
   "cell_type": "code",
   "execution_count": 6,
   "metadata": {
    "colab": {
     "base_uri": "https://localhost:8080/"
    },
    "id": "rhzKPaSvwN-e",
    "outputId": "25da14a3-8716-40e9-95c5-4390ffc7b3ea"
   },
   "outputs": [
    {
     "name": "stderr",
     "output_type": "stream",
     "text": [
      "WARNING:tensorflow:Layer lstm will not use cuDNN kernels since it doesn't meet the criteria. It will use a generic GPU kernel as fallback when running on GPU.\n",
      "WARNING:tensorflow:Layer lstm will not use cuDNN kernels since it doesn't meet the criteria. It will use a generic GPU kernel as fallback when running on GPU.\n",
      "WARNING:tensorflow:Layer lstm will not use cuDNN kernels since it doesn't meet the criteria. It will use a generic GPU kernel as fallback when running on GPU.\n"
     ]
    }
   ],
   "source": [
    "# Add first Bidirectional LSTM layer with 256 units and relu activation function:\n",
    "model.add(layers.Bidirectional(layers.LSTM(256, return_sequences=True, activation=\"relu\")))\n"
   ]
  },
  {
   "cell_type": "code",
   "execution_count": 7,
   "metadata": {
    "id": "VkzxH60wwOFj"
   },
   "outputs": [],
   "source": [
    "# Add second Bidirectional LSTM layer with 256 units:\n",
    "model.add(layers.Bidirectional(layers.LSTM(256, name=\"lstm_layer2\")))"
   ]
  },
  {
   "cell_type": "code",
   "execution_count": 8,
   "metadata": {
    "id": "T-Y0i0ZYwOM0"
   },
   "outputs": [],
   "source": [
    "# Add dense output layer with 10 units for 10 classes of digits:\n",
    "model.add(layers.Dense(10))"
   ]
  },
  {
   "cell_type": "code",
   "execution_count": 9,
   "metadata": {
    "colab": {
     "base_uri": "https://localhost:8080/"
    },
    "id": "xuUEX7D3wOTm",
    "outputId": "9d5df760-96b7-447d-ce96-93fc4bc551fb"
   },
   "outputs": [
    {
     "name": "stdout",
     "output_type": "stream",
     "text": [
      "Model: \"sequential\"\n",
      "_________________________________________________________________\n",
      " Layer (type)                Output Shape              Param #   \n",
      "=================================================================\n",
      " bidirectional (Bidirectiona  (None, None, 512)        583680    \n",
      " l)                                                              \n",
      "                                                                 \n",
      " bidirectional_1 (Bidirectio  (None, 512)              1574912   \n",
      " nal)                                                            \n",
      "                                                                 \n",
      " dense (Dense)               (None, 10)                5130      \n",
      "                                                                 \n",
      "=================================================================\n",
      "Total params: 2,163,722\n",
      "Trainable params: 2,163,722\n",
      "Non-trainable params: 0\n",
      "_________________________________________________________________\n",
      "None\n"
     ]
    }
   ],
   "source": [
    "# Print model summary:\n",
    "print(model.summary())"
   ]
  },
  {
   "cell_type": "code",
   "execution_count": 10,
   "metadata": {
    "colab": {
     "base_uri": "https://localhost:8080/"
    },
    "id": "8J-DyW_2wOad",
    "outputId": "3ccc3647-352b-4f1a-fabf-76e2394e2dc7"
   },
   "outputs": [
    {
     "name": "stderr",
     "output_type": "stream",
     "text": [
      "WARNING:absl:`lr` is deprecated in Keras optimizer, please use `learning_rate` or use the legacy optimizer, e.g.,tf.keras.optimizers.legacy.Adam.\n"
     ]
    }
   ],
   "source": [
    "\n",
    "# Compile model with sparse categorical crossentropy loss function, Adam optimizer, and accuracy metric:\n",
    "model.compile(\n",
    "    loss=keras.losses.SparseCategoricalCrossentropy(from_logits=True),\n",
    "    optimizer=keras.optimizers.Adam(lr=0.001),\n",
    "    metrics=[\"accuracy\"],\n",
    ")"
   ]
  },
  {
   "cell_type": "code",
   "execution_count": 11,
   "metadata": {
    "colab": {
     "base_uri": "https://localhost:8080/"
    },
    "id": "P8sQfxcfwOhi",
    "outputId": "07d100ff-8b55-4412-d843-314bddb65b14"
   },
   "outputs": [
    {
     "name": "stdout",
     "output_type": "stream",
     "text": [
      "Epoch 1/10\n",
      "938/938 - 104s - loss: 0.2448 - accuracy: 0.9204 - 104s/epoch - 111ms/step\n",
      "Epoch 2/10\n",
      "938/938 - 89s - loss: 0.0757 - accuracy: 0.9768 - 89s/epoch - 95ms/step\n",
      "Epoch 3/10\n",
      "938/938 - 87s - loss: 0.0520 - accuracy: 0.9840 - 87s/epoch - 93ms/step\n",
      "Epoch 4/10\n",
      "938/938 - 87s - loss: 0.0417 - accuracy: 0.9871 - 87s/epoch - 93ms/step\n",
      "Epoch 5/10\n",
      "938/938 - 86s - loss: 0.0343 - accuracy: 0.9893 - 86s/epoch - 91ms/step\n",
      "Epoch 6/10\n",
      "938/938 - 85s - loss: 0.0289 - accuracy: 0.9911 - 85s/epoch - 91ms/step\n",
      "Epoch 7/10\n",
      "938/938 - 86s - loss: 0.0269 - accuracy: 0.9914 - 86s/epoch - 92ms/step\n",
      "Epoch 8/10\n",
      "938/938 - 85s - loss: 0.0207 - accuracy: 0.9935 - 85s/epoch - 91ms/step\n",
      "Epoch 9/10\n",
      "938/938 - 85s - loss: 0.0193 - accuracy: 0.9941 - 85s/epoch - 91ms/step\n",
      "Epoch 10/10\n",
      "938/938 - 86s - loss: 0.0151 - accuracy: 0.9952 - 86s/epoch - 92ms/step\n"
     ]
    },
    {
     "data": {
      "text/plain": [
       "<keras.callbacks.History at 0x7f99f7e91c70>"
      ]
     },
     "execution_count": 11,
     "metadata": {},
     "output_type": "execute_result"
    }
   ],
   "source": [
    "# Train model on training data for 10 epochs with batch size of 64:\n",
    "model.fit(x_train, y_train, batch_size=64, epochs=10, verbose=2)"
   ]
  },
  {
   "cell_type": "code",
   "execution_count": 12,
   "metadata": {
    "colab": {
     "base_uri": "https://localhost:8080/"
    },
    "id": "Y36WKbREwfwp",
    "outputId": "fc388d47-b112-49fb-cc8f-1ae774a86add"
   },
   "outputs": [
    {
     "name": "stdout",
     "output_type": "stream",
     "text": [
      "157/157 - 3s - loss: 0.0424 - accuracy: 0.9884 - 3s/epoch - 17ms/step\n"
     ]
    },
    {
     "data": {
      "text/plain": [
       "[0.042361415922641754, 0.9883999824523926]"
      ]
     },
     "execution_count": 12,
     "metadata": {},
     "output_type": "execute_result"
    }
   ],
   "source": [
    "# Evaluate model on test data with batch size of 64 and print test accuracy:\n",
    "model.evaluate(x_test, y_test, batch_size=64, verbose=2)"
   ]
  },
  {
   "cell_type": "code",
   "execution_count": null,
   "metadata": {
    "id": "eHW5MDXxwf40"
   },
   "outputs": [],
   "source": []
  }
 ],
 "metadata": {
  "accelerator": "GPU",
  "colab": {
   "provenance": []
  },
  "gpuClass": "standard",
  "kernelspec": {
   "display_name": "Python 3",
   "language": "python",
   "name": "python3"
  },
  "language_info": {
   "codemirror_mode": {
    "name": "ipython",
    "version": 3
   },
   "file_extension": ".py",
   "mimetype": "text/x-python",
   "name": "python",
   "nbconvert_exporter": "python",
   "pygments_lexer": "ipython3",
   "version": "3.8.8"
  }
 },
 "nbformat": 4,
 "nbformat_minor": 1
}
