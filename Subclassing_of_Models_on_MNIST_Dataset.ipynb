{
  "nbformat": 4,
  "nbformat_minor": 0,
  "metadata": {
    "colab": {
      "provenance": []
    },
    "kernelspec": {
      "name": "python3",
      "display_name": "Python 3"
    },
    "language_info": {
      "name": "python"
    },
    "accelerator": "GPU",
    "gpuClass": "standard"
  },
  "cells": [
    {
      "cell_type": "code",
      "execution_count": 1,
      "metadata": {
        "id": "tyqyYWLX7jPD"
      },
      "outputs": [],
      "source": [
        "# Import necessary libraries:\n",
        "import os\n",
        "os.environ[\"TF_CPP_MIN_LOG_LEVEL\"] = \"2\"\n",
        "import tensorflow as tf\n",
        "from tensorflow import keras\n",
        "from tensorflow.keras import layers\n",
        "from tensorflow.keras.datasets import mnist"
      ]
    },
    {
      "cell_type": "code",
      "source": [
        "# Load the MNIST dataset and normalize the pixel values:\n",
        "(x_train, y_train), (x_test, y_test) = mnist.load_data()\n",
        "x_train = x_train.reshape(-1, 28, 28, 1).astype(\"float32\") / 255.0\n",
        "x_test = x_test.reshape(-1, 28, 28, 1).astype(\"float32\") / 255.0"
      ],
      "metadata": {
        "colab": {
          "base_uri": "https://localhost:8080/"
        },
        "id": "mfpZY8yU7juX",
        "outputId": "3e8b3900-4bff-48f2-a849-16e5692d0446"
      },
      "execution_count": 2,
      "outputs": [
        {
          "output_type": "stream",
          "name": "stdout",
          "text": [
            "Downloading data from https://storage.googleapis.com/tensorflow/tf-keras-datasets/mnist.npz\n",
            "11490434/11490434 [==============================] - 0s 0us/step\n"
          ]
        }
      ]
    },
    {
      "cell_type": "code",
      "source": [
        "# CNN -> BatchNorm -> ReLU (common structure)\n",
        "# x10 (a lot of code to write!)"
      ],
      "metadata": {
        "id": "1yoCmPJT7j1K"
      },
      "execution_count": 3,
      "outputs": []
    },
    {
      "cell_type": "code",
      "source": [
        "# Define a CNNBlock subclass of Layer to create a block of Convolutional, BatchNormalization and ReLU layers:\n",
        "class CNNBlock(layers.Layer):\n",
        "    def __init__(self, out_channels, kernel_size=3):\n",
        "        super(CNNBlock, self).__init__()\n",
        "        self.conv = layers.Conv2D(out_channels, kernel_size, padding=\"same\")\n",
        "        self.bn = layers.BatchNormalization()\n",
        "\n",
        "    def call(self, input_tensor, training=False):\n",
        "        x = self.conv(input_tensor)\n",
        "        x = self.bn(x, training=training)\n",
        "        x = tf.nn.relu(x)\n",
        "        return x"
      ],
      "metadata": {
        "id": "PVKgOHCR7j8n"
      },
      "execution_count": 4,
      "outputs": []
    },
    {
      "cell_type": "code",
      "source": [
        "# Define the model as a subclass of Sequential: \n",
        "class MyModel(keras.Sequential):\n",
        "    def __init__(self):\n",
        "        super(MyModel, self).__init__()\n",
        "        self.conv_block1 = CNNBlock(32)\n",
        "        self.conv_block2 = CNNBlock(64)\n",
        "        self.conv_block3 = CNNBlock(128)\n",
        "        self.flatten = layers.Flatten()\n",
        "        self.dense = layers.Dense(10)\n",
        "\n",
        "    def call(self, input_tensor, training=False):\n",
        "        x = self.conv_block1(input_tensor, training=training)\n",
        "        x = layers.MaxPooling2D(pool_size=(2, 2))(x)\n",
        "        x = self.conv_block2(x, training=training)\n",
        "        x = layers.MaxPooling2D(pool_size=(2, 2))(x)\n",
        "        x = self.conv_block3(x, training=training)\n",
        "        x = self.flatten(x)\n",
        "        x = self.dense(x)\n",
        "        return x"
      ],
      "metadata": {
        "id": "al23Q87C7kD7"
      },
      "execution_count": 5,
      "outputs": []
    },
    {
      "cell_type": "code",
      "source": [
        "# Create an instance of the model:\n",
        "model = MyModel()"
      ],
      "metadata": {
        "id": "R8WnM6_T7kTi"
      },
      "execution_count": 6,
      "outputs": []
    },
    {
      "cell_type": "code",
      "source": [
        "# Compile the model with Adam optimizer, SparseCategoricalCrossentropy loss and accuracy metric:\n",
        "model.compile(\n",
        "    optimizer=keras.optimizers.Adam(),\n",
        "    loss=keras.losses.SparseCategoricalCrossentropy(from_logits=True),\n",
        "    metrics=[\"accuracy\"],\n",
        ")\n"
      ],
      "metadata": {
        "id": "mCU-61ph7ka0"
      },
      "execution_count": 7,
      "outputs": []
    },
    {
      "cell_type": "code",
      "source": [
        "# Train the model on the training dataset and evaluate on the test dataset:\n",
        "model.fit(x_train, y_train, batch_size=64, epochs=10, verbose=2)\n",
        "model.evaluate(x_test, y_test, batch_size=64, verbose=2)"
      ],
      "metadata": {
        "colab": {
          "base_uri": "https://localhost:8080/"
        },
        "id": "a-xtsBI47khQ",
        "outputId": "82d9568f-1bb7-461d-ce39-3de73876ea91"
      },
      "execution_count": 8,
      "outputs": [
        {
          "output_type": "stream",
          "name": "stdout",
          "text": [
            "Epoch 1/10\n",
            "938/938 - 11s - loss: 2.6433 - accuracy: 0.1365 - 11s/epoch - 12ms/step\n",
            "Epoch 2/10\n",
            "938/938 - 2s - loss: 2.6434 - accuracy: 0.1364 - 2s/epoch - 2ms/step\n",
            "Epoch 3/10\n",
            "938/938 - 2s - loss: 2.6435 - accuracy: 0.1361 - 2s/epoch - 2ms/step\n",
            "Epoch 4/10\n",
            "938/938 - 3s - loss: 2.6432 - accuracy: 0.1372 - 3s/epoch - 3ms/step\n",
            "Epoch 5/10\n",
            "938/938 - 2s - loss: 2.6433 - accuracy: 0.1368 - 2s/epoch - 2ms/step\n",
            "Epoch 6/10\n",
            "938/938 - 2s - loss: 2.6433 - accuracy: 0.1361 - 2s/epoch - 2ms/step\n",
            "Epoch 7/10\n",
            "938/938 - 2s - loss: 2.6435 - accuracy: 0.1367 - 2s/epoch - 2ms/step\n",
            "Epoch 8/10\n",
            "938/938 - 2s - loss: 2.6434 - accuracy: 0.1365 - 2s/epoch - 2ms/step\n",
            "Epoch 9/10\n",
            "938/938 - 3s - loss: 2.6433 - accuracy: 0.1368 - 3s/epoch - 3ms/step\n",
            "Epoch 10/10\n",
            "938/938 - 2s - loss: 2.6432 - accuracy: 0.1365 - 2s/epoch - 2ms/step\n",
            "157/157 - 1s - loss: 2.6325 - accuracy: 0.1316 - 640ms/epoch - 4ms/step\n"
          ]
        },
        {
          "output_type": "execute_result",
          "data": {
            "text/plain": [
              "[2.6324687004089355, 0.1316000074148178]"
            ]
          },
          "metadata": {},
          "execution_count": 8
        }
      ]
    },
    {
      "cell_type": "code",
      "source": [
        "# Define the Residual Block for the ResNet-like model\n",
        "class ResBlock(layers.Layer):\n",
        "    def __init__(self, channels):\n",
        "        super(ResBlock, self).__init__()\n",
        "        self.channels = channels\n",
        "        self.cnn1 = CNNBlock(channels[0], 3)\n",
        "        self.cnn2 = CNNBlock(channels[1], 3)\n",
        "        self.cnn3 = CNNBlock(channels[2], 3)\n",
        "        self.pooling = layers.MaxPooling2D()\n",
        "        self.identity_mapping = layers.Conv2D(channels[1], 3, padding=\"same\")\n",
        "\n",
        "    def call(self, input_tensor, training=False):\n",
        "        x = self.cnn1(input_tensor, training=training)\n",
        "        x = self.cnn2(x, training=training)\n",
        "        x = self.cnn3(x + self.identity_mapping(input_tensor), training=training,)\n",
        "        x = self.pooling(x)\n",
        "        return x"
      ],
      "metadata": {
        "id": "LOwcg-5i7koV"
      },
      "execution_count": 9,
      "outputs": []
    },
    {
      "cell_type": "code",
      "source": [
        "# Define the ResNet-like model\n",
        "class ResNet_Like(keras.Model):\n",
        "    def __init__(self, num_classes=10):\n",
        "        super(ResNet_Like, self).__init__()\n",
        "        self.block1 = ResBlock([32, 32, 64])\n",
        "        self.block2 = ResBlock([128, 128, 256])\n",
        "        self.block3 = ResBlock([128, 256, 512])\n",
        "        self.pool = layers.GlobalAveragePooling2D()\n",
        "        self.classifier = layers.Dense(num_classes)\n",
        "\n",
        "    def call(self, input_tensor, training=False):\n",
        "        x = self.block1(input_tensor, training=training)\n",
        "        x = self.block2(x, training=training)\n",
        "        x = self.block3(x, training=training)\n",
        "        x = self.pool(x, training=training)\n",
        "        x = self.classifier(x)\n",
        "        return x\n",
        "    \n",
        "    def model(self):\n",
        "        x = keras.Input(shape=(28, 28, 1))\n",
        "        return keras.Model(inputs=[x], outputs=self.call(x))"
      ],
      "metadata": {
        "id": "n1cfNGJg7kvn"
      },
      "execution_count": 10,
      "outputs": []
    },
    {
      "cell_type": "code",
      "source": [
        "# Create an instance of the ResNet-like model and replace the output layer with a new one for classification\n",
        "model_1 = ResNet_Like().model()\n",
        "base_input = model_1.layers[0].input\n",
        "base_output = model_1.layers[2].output\n",
        "output = layers.Dense(10)(layers.Flatten()(base_output))\n",
        "model = keras.Model(base_input, output)"
      ],
      "metadata": {
        "id": "b_hq64d_BPdg"
      },
      "execution_count": 12,
      "outputs": []
    },
    {
      "cell_type": "code",
      "source": [
        "# Compile the model with Adam optimizer, SparseCategoricalCrossentropy loss and accuracy metric\n",
        "model_1.compile(\n",
        "    optimizer=keras.optimizers.Adam(),\n",
        "    loss=keras.losses.SparseCategoricalCrossentropy(from_logits=True),\n",
        "    metrics=[\"accuracy\"],\n",
        ")"
      ],
      "metadata": {
        "id": "FU1ou5MMBPkr"
      },
      "execution_count": 13,
      "outputs": []
    },
    {
      "cell_type": "code",
      "source": [
        "print(model_1.summary())"
      ],
      "metadata": {
        "colab": {
          "base_uri": "https://localhost:8080/"
        },
        "id": "W6QUiE2tBrJX",
        "outputId": "75569469-1936-45f3-b50c-15c149bfe0ca"
      },
      "execution_count": 14,
      "outputs": [
        {
          "output_type": "stream",
          "name": "stdout",
          "text": [
            "Model: \"model_1\"\n",
            "_________________________________________________________________\n",
            " Layer (type)                Output Shape              Param #   \n",
            "=================================================================\n",
            " input_2 (InputLayer)        [(None, 28, 28, 1)]       0         \n",
            "                                                                 \n",
            " res_block_3 (ResBlock)      (None, 14, 14, 64)        28896     \n",
            "                                                                 \n",
            " res_block_4 (ResBlock)      (None, 7, 7, 256)         592512    \n",
            "                                                                 \n",
            " res_block_5 (ResBlock)      (None, 3, 3, 512)         2364032   \n",
            "                                                                 \n",
            " global_average_pooling2d_1   (None, 512)              0         \n",
            " (GlobalAveragePooling2D)                                        \n",
            "                                                                 \n",
            " dense_2 (Dense)             (None, 10)                5130      \n",
            "                                                                 \n",
            "=================================================================\n",
            "Total params: 2,990,570\n",
            "Trainable params: 2,987,498\n",
            "Non-trainable params: 3,072\n",
            "_________________________________________________________________\n",
            "None\n"
          ]
        }
      ]
    },
    {
      "cell_type": "code",
      "source": [
        "# Train the model on the training set\n",
        "model_1.fit(x_train, y_train, batch_size=64, epochs=1, verbose=2)"
      ],
      "metadata": {
        "colab": {
          "base_uri": "https://localhost:8080/"
        },
        "id": "zMUNeAlHBPsw",
        "outputId": "0c7ac0e5-b8ee-45ba-ef01-1116a9716882"
      },
      "execution_count": 15,
      "outputs": [
        {
          "output_type": "stream",
          "name": "stdout",
          "text": [
            "938/938 - 36s - loss: 0.2188 - accuracy: 0.9292 - 36s/epoch - 38ms/step\n"
          ]
        },
        {
          "output_type": "execute_result",
          "data": {
            "text/plain": [
              "<keras.callbacks.History at 0x7f86a5da4d00>"
            ]
          },
          "metadata": {},
          "execution_count": 15
        }
      ]
    },
    {
      "cell_type": "code",
      "source": [
        "# Evaluate the trained model on the test set\n",
        "model_1.evaluate(x_test, y_test, batch_size=64, verbose=2)"
      ],
      "metadata": {
        "colab": {
          "base_uri": "https://localhost:8080/"
        },
        "id": "qyAi3pWuBP1Y",
        "outputId": "34995d64-b056-457c-fe70-1bcf0e19a64f"
      },
      "execution_count": 16,
      "outputs": [
        {
          "output_type": "stream",
          "name": "stdout",
          "text": [
            "157/157 - 2s - loss: 0.0363 - accuracy: 0.9893 - 2s/epoch - 12ms/step\n"
          ]
        },
        {
          "output_type": "execute_result",
          "data": {
            "text/plain": [
              "[0.03632822260260582, 0.989300012588501]"
            ]
          },
          "metadata": {},
          "execution_count": 16
        }
      ]
    },
    {
      "cell_type": "code",
      "source": [],
      "metadata": {
        "id": "Sq92gQ6aBP-Q"
      },
      "execution_count": null,
      "outputs": []
    },
    {
      "cell_type": "code",
      "source": [],
      "metadata": {
        "id": "pr1HIlpYBQJA"
      },
      "execution_count": null,
      "outputs": []
    }
  ]
}