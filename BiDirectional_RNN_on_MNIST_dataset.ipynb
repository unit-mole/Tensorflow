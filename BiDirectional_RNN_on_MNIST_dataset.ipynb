{
  "nbformat": 4,
  "nbformat_minor": 0,
  "metadata": {
    "colab": {
      "provenance": []
    },
    "kernelspec": {
      "name": "python3",
      "display_name": "Python 3"
    },
    "language_info": {
      "name": "python"
    },
    "accelerator": "GPU",
    "gpuClass": "standard"
  },
  "cells": [
    {
      "cell_type": "code",
      "execution_count": null,
      "metadata": {
        "id": "HFLOFrxIdD0t"
      },
      "outputs": [],
      "source": [
        "# Importing the required libraries:\n",
        "import os\n",
        "os.environ[\"TF_CPP_MIN_LOG_LEVEL\"] = \"2\"\n",
        "import tensorflow as tf\n",
        "from tensorflow import keras\n",
        "from tensorflow.keras import layers\n",
        "from tensorflow.keras.datasets import mnist"
      ]
    },
    {
      "cell_type": "code",
      "source": [
        "# Loading the MNIST dataset:\n",
        "(x_train, y_train), (x_test, y_test) = mnist.load_data()"
      ],
      "metadata": {
        "id": "mIKk6M2XdEjv",
        "colab": {
          "base_uri": "https://localhost:8080/"
        },
        "outputId": "46f3ef09-baff-4803-d335-7dc8bde570bb"
      },
      "execution_count": null,
      "outputs": [
        {
          "output_type": "stream",
          "name": "stdout",
          "text": [
            "Downloading data from https://storage.googleapis.com/tensorflow/tf-keras-datasets/mnist.npz\n",
            "11490434/11490434 [==============================] - 1s 0us/step\n"
          ]
        }
      ]
    },
    {
      "cell_type": "code",
      "source": [
        "# Preprocessing the data:\n",
        "x_train = x_train.reshape([-1, 28, 28]).astype(\"float32\") / 255.0\n",
        "x_test = x_test.reshape([-1, 28, 28]).astype(\"float32\") / 255.0"
      ],
      "metadata": {
        "id": "wcUDx4LhdE0y"
      },
      "execution_count": null,
      "outputs": []
    },
    {
      "cell_type": "code",
      "source": [
        "# Building the model architecture:\n",
        "model = keras.Sequential()"
      ],
      "metadata": {
        "id": "vh6Kj9ctdFCe"
      },
      "execution_count": null,
      "outputs": []
    },
    {
      "cell_type": "code",
      "source": [
        "# Adding the input layer:\n",
        "model.add(keras.Input(shape=(None, 28)))"
      ],
      "metadata": {
        "id": "AsFpZWmCdFOk"
      },
      "execution_count": null,
      "outputs": []
    },
    {
      "cell_type": "code",
      "source": [
        "# Adding a Bidirectional LSTM layer with 256 units, returning sequences, and using relu activation function:\n",
        "model.add(\n",
        "layers.Bidirectional(layers.LSTM(256, return_sequences=True, activation=\"relu\"))\n",
        ")"
      ],
      "metadata": {
        "id": "LmUgz7tRdFb_",
        "colab": {
          "base_uri": "https://localhost:8080/"
        },
        "outputId": "03ac026c-17ae-43f8-a05a-303f7a9450c8"
      },
      "execution_count": null,
      "outputs": [
        {
          "output_type": "stream",
          "name": "stderr",
          "text": [
            "WARNING:tensorflow:Layer lstm will not use cuDNN kernels since it doesn't meet the criteria. It will use a generic GPU kernel as fallback when running on GPU.\n",
            "WARNING:tensorflow:Layer lstm will not use cuDNN kernels since it doesn't meet the criteria. It will use a generic GPU kernel as fallback when running on GPU.\n",
            "WARNING:tensorflow:Layer lstm will not use cuDNN kernels since it doesn't meet the criteria. It will use a generic GPU kernel as fallback when running on GPU.\n"
          ]
        }
      ]
    },
    {
      "cell_type": "code",
      "source": [
        "# Adding a second Bidirectional LSTM layer with 256 units:\n",
        "model.add(layers.Bidirectional(layers.LSTM(256, name=\"lstm_layer2\")))"
      ],
      "metadata": {
        "id": "s5M3fCOkdFqD"
      },
      "execution_count": null,
      "outputs": []
    },
    {
      "cell_type": "code",
      "source": [
        "# Adding a dense layer with 10 units for the output:\n",
        "model.add(layers.Dense(10))"
      ],
      "metadata": {
        "id": "JYo72wX4va9f"
      },
      "execution_count": null,
      "outputs": []
    },
    {
      "cell_type": "code",
      "source": [
        "# Printing the model summary:\n",
        "print(model.summary())"
      ],
      "metadata": {
        "colab": {
          "base_uri": "https://localhost:8080/"
        },
        "id": "nHUadM2EvbHi",
        "outputId": "a4f3790d-9cfa-46cd-bcc6-5be716d25f2d"
      },
      "execution_count": null,
      "outputs": [
        {
          "output_type": "stream",
          "name": "stdout",
          "text": [
            "Model: \"sequential\"\n",
            "_________________________________________________________________\n",
            " Layer (type)                Output Shape              Param #   \n",
            "=================================================================\n",
            " bidirectional (Bidirectiona  (None, None, 512)        583680    \n",
            " l)                                                              \n",
            "                                                                 \n",
            " bidirectional_1 (Bidirectio  (None, 512)              1574912   \n",
            " nal)                                                            \n",
            "                                                                 \n",
            " dense (Dense)               (None, 10)                5130      \n",
            "                                                                 \n",
            "=================================================================\n",
            "Total params: 2,163,722\n",
            "Trainable params: 2,163,722\n",
            "Non-trainable params: 0\n",
            "_________________________________________________________________\n",
            "None\n"
          ]
        }
      ]
    },
    {
      "cell_type": "code",
      "source": [
        "# Compiling the model with loss function, optimizer, and metrics:\n",
        "model.compile(\n",
        "loss=keras.losses.SparseCategoricalCrossentropy(from_logits=True),\n",
        "optimizer=keras.optimizers.Adam(lr=0.001),\n",
        "metrics=[\"accuracy\"],\n",
        ")"
      ],
      "metadata": {
        "colab": {
          "base_uri": "https://localhost:8080/"
        },
        "id": "N5-f9IXevbPP",
        "outputId": "918605ec-9e71-48f8-b98a-19805bbf8ced"
      },
      "execution_count": null,
      "outputs": [
        {
          "output_type": "stream",
          "name": "stderr",
          "text": [
            "WARNING:absl:`lr` is deprecated in Keras optimizer, please use `learning_rate` or use the legacy optimizer, e.g.,tf.keras.optimizers.legacy.Adam.\n"
          ]
        }
      ]
    },
    {
      "cell_type": "code",
      "source": [
        "# Training the model with training data and evaluating with testing data:\n",
        "model.fit(x_train, y_train, batch_size=64, epochs=10, verbose=2)\n"
      ],
      "metadata": {
        "colab": {
          "base_uri": "https://localhost:8080/"
        },
        "id": "s3GANrNovbXQ",
        "outputId": "53a26f5e-aed5-4b7e-e089-4342c0616ac0"
      },
      "execution_count": 11,
      "outputs": [
        {
          "output_type": "stream",
          "name": "stdout",
          "text": [
            "Epoch 1/10\n",
            "938/938 - 103s - loss: 0.2473 - accuracy: 0.9193 - 103s/epoch - 109ms/step\n",
            "Epoch 2/10\n",
            "938/938 - 93s - loss: 0.0780 - accuracy: 0.9759 - 93s/epoch - 100ms/step\n",
            "Epoch 3/10\n",
            "938/938 - 90s - loss: 0.0530 - accuracy: 0.9838 - 90s/epoch - 96ms/step\n",
            "Epoch 4/10\n",
            "938/938 - 90s - loss: 0.0434 - accuracy: 0.9865 - 90s/epoch - 96ms/step\n",
            "Epoch 5/10\n",
            "938/938 - 93s - loss: 0.0350 - accuracy: 0.9892 - 93s/epoch - 99ms/step\n",
            "Epoch 6/10\n",
            "938/938 - 89s - loss: 0.0309 - accuracy: 0.9903 - 89s/epoch - 95ms/step\n",
            "Epoch 7/10\n",
            "938/938 - 90s - loss: 0.0243 - accuracy: 0.9925 - 90s/epoch - 96ms/step\n",
            "Epoch 8/10\n",
            "938/938 - 88s - loss: 0.0242 - accuracy: 0.9923 - 88s/epoch - 93ms/step\n",
            "Epoch 9/10\n",
            "938/938 - 87s - loss: 0.0181 - accuracy: 0.9944 - 87s/epoch - 93ms/step\n",
            "Epoch 10/10\n",
            "938/938 - 86s - loss: 0.0174 - accuracy: 0.9943 - 86s/epoch - 91ms/step\n"
          ]
        },
        {
          "output_type": "execute_result",
          "data": {
            "text/plain": [
              "<keras.callbacks.History at 0x7f69016f1520>"
            ]
          },
          "metadata": {},
          "execution_count": 11
        }
      ]
    },
    {
      "cell_type": "code",
      "source": [
        "# Evaluate model on test data with batch size of 64 and print test accuracy:\n",
        "model.evaluate(x_test, y_test, batch_size=64, verbose=2)"
      ],
      "metadata": {
        "id": "8p5EY9t-vbfF",
        "colab": {
          "base_uri": "https://localhost:8080/"
        },
        "outputId": "cd1f0be2-3a5e-4701-e80d-5b9e12f5eacd"
      },
      "execution_count": 12,
      "outputs": [
        {
          "output_type": "stream",
          "name": "stdout",
          "text": [
            "157/157 - 4s - loss: 0.0352 - accuracy: 0.9902 - 4s/epoch - 27ms/step\n"
          ]
        },
        {
          "output_type": "execute_result",
          "data": {
            "text/plain": [
              "[0.03524806722998619, 0.9901999831199646]"
            ]
          },
          "metadata": {},
          "execution_count": 12
        }
      ]
    }
  ]
}